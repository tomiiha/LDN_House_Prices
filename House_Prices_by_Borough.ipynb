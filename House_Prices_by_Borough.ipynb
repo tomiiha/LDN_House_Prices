{
 "cells": [
  {
   "cell_type": "code",
   "execution_count": 28,
   "metadata": {},
   "outputs": [],
   "source": [
    "import requests as reqs\n",
    "import pandas as pd\n",
    "import io\n",
    "import matplotlib.pyplot as plt\n",
    "from ipywidgets import Dropdown, interact\n",
    "\n",
    "# Govt website for data pull.\n",
    "source = 'https://data.london.gov.uk/download/average-house-prices/b1b0079e-698c-4c0b-b8c7-aa6189590ca4/land-registry-house-prices-borough.csv'\n",
    "source_get = reqs.get(source).content\n",
    "\n",
    "# Capture data for handling - io used to not require local instance.\n",
    "data_set = pd.read_csv(io.StringIO(source_get.decode('utf-8')), thousands=',')\n",
    "\n",
    "# Exclude National Stats.\n",
    "data_set = data_set[~data_set['Area'].isin(excl_list)]\n",
    "excl_list = ['North East', 'North West', 'Yorkshire And The Humber', \n",
    "             'East Midlands', 'West Midlands', 'East of England', \n",
    "             'South East', 'South West', 'England', 'England And Wales', \n",
    "             'Wales']\n",
    "# Adjust years and house values to be integers.\n",
    "data_set['Year'] = data_set['Year'].str[-4:].astype(int)\n",
    "data_set['Value'] = data_set['Value'].astype(int)"
   ]
  },
  {
   "cell_type": "code",
   "execution_count": 29,
   "metadata": {},
   "outputs": [],
   "source": [
    "# UI bits\n",
    "borough_box=Dropdown(\n",
    "        options=[x for x in data_set['Area'].unique()],\n",
    "        value='London',\n",
    "        description='Pick Area:',\n",
    "        layout={'width': 'max-content'},\n",
    "        style = {'description_width': 'initial'},\n",
    "        disabled=False)\n",
    "data_box=Dropdown(\n",
    "        options=['Value', 'Val Chg YoY'],\n",
    "        value='Value',\n",
    "        description='Plot Value:',\n",
    "        layout={'width': 'max-content'},\n",
    "        style = {'description_width': 'initial'},\n",
    "        disabled=False)\n",
    "year_box=Dropdown(\n",
    "        options=[x for x in data_set['Year'].unique()],\n",
    "        value=2010,\n",
    "        description='Min Year:',\n",
    "        layout={'width': 'max-content'},\n",
    "        style = {'description_width': 'initial'},\n",
    "        disabled=False)"
   ]
  },
  {
   "cell_type": "code",
   "execution_count": 30,
   "metadata": {},
   "outputs": [
    {
     "data": {
      "application/vnd.jupyter.widget-view+json": {
       "model_id": "e7c2be1f47c748a0a876735b10388edd",
       "version_major": 2,
       "version_minor": 0
      },
      "text/plain": [
       "interactive(children=(Dropdown(description='Pick Area:', index=33, layout=Layout(width='max-content'), options…"
      ]
     },
     "metadata": {},
     "output_type": "display_data"
    }
   ],
   "source": [
    "@interact(borough = borough_box, pull_val = data_box, min_year = year_box)\n",
    "def init_filter(borough, pull_val, min_year):\n",
    "    # Only capture market median observations.\n",
    "    data_adj = data_set.loc[data_set['Measure'] == 'Median']\n",
    "    \n",
    "    # Pick min timeline and area.\n",
    "    data_adj = data_adj.loc[data_adj['Area'] == borough]\n",
    "    data_adj = data_adj.loc[data_adj['Year'] >= min_year]\n",
    "    \n",
    "    # Add change in prices, to see relative movement of the market.\n",
    "    data_adj['Val Chg YoY'] = data_adj['Value'].diff()\n",
    "    \n",
    "    # Create timeline of value chosen and year - keep 'data_adj' set.\n",
    "    data_final = data_adj.groupby(['Year'])[pull_val].mean()\n",
    "    data_final.plot.line(x='Year',y=pull_val)\n",
    "    return"
   ]
  },
  {
   "cell_type": "code",
   "execution_count": null,
   "metadata": {},
   "outputs": [],
   "source": []
  }
 ],
 "metadata": {
  "kernelspec": {
   "display_name": "Python 3",
   "language": "python",
   "name": "python3"
  },
  "language_info": {
   "codemirror_mode": {
    "name": "ipython",
    "version": 3
   },
   "file_extension": ".py",
   "mimetype": "text/x-python",
   "name": "python",
   "nbconvert_exporter": "python",
   "pygments_lexer": "ipython3",
   "version": "3.8.5"
  }
 },
 "nbformat": 4,
 "nbformat_minor": 4
}
