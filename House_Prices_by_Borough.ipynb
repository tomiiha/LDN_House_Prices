{
  "nbformat": 4,
  "nbformat_minor": 0,
  "metadata": {
    "colab": {
      "name": "House Prices by Borough.ipynb",
      "provenance": [],
      "authorship_tag": "ABX9TyPpnYLfSEVklAaOXAxxuGe7"
    },
    "kernelspec": {
      "name": "python3",
      "display_name": "Python 3"
    },
    "widgets": {
      "application/vnd.jupyter.widget-state+json": {
        "c4cdc26c8b544ed3af2fe065ea1a0ec8": {
          "model_module": "@jupyter-widgets/controls",
          "model_name": "VBoxModel",
          "state": {
            "_view_name": "VBoxView",
            "_dom_classes": [
              "widget-interact"
            ],
            "_model_name": "VBoxModel",
            "_view_module": "@jupyter-widgets/controls",
            "_model_module_version": "1.5.0",
            "_view_count": null,
            "_view_module_version": "1.5.0",
            "box_style": "",
            "layout": "IPY_MODEL_114455ead01a4e39a7dcb9c74f504b75",
            "_model_module": "@jupyter-widgets/controls",
            "children": [
              "IPY_MODEL_ac4eb89336ea429fb3eb4f784ce8920c",
              "IPY_MODEL_39542e1667294515b11038d214b826e5",
              "IPY_MODEL_abcdb1028288484eb58865d7701f0a25"
            ]
          }
        },
        "114455ead01a4e39a7dcb9c74f504b75": {
          "model_module": "@jupyter-widgets/base",
          "model_name": "LayoutModel",
          "state": {
            "_view_name": "LayoutView",
            "grid_template_rows": null,
            "right": null,
            "justify_content": null,
            "_view_module": "@jupyter-widgets/base",
            "overflow": null,
            "_model_module_version": "1.2.0",
            "_view_count": null,
            "flex_flow": null,
            "width": null,
            "min_width": null,
            "border": null,
            "align_items": null,
            "bottom": null,
            "_model_module": "@jupyter-widgets/base",
            "top": null,
            "grid_column": null,
            "overflow_y": null,
            "overflow_x": null,
            "grid_auto_flow": null,
            "grid_area": null,
            "grid_template_columns": null,
            "flex": null,
            "_model_name": "LayoutModel",
            "justify_items": null,
            "grid_row": null,
            "max_height": null,
            "align_content": null,
            "visibility": null,
            "align_self": null,
            "height": null,
            "min_height": null,
            "padding": null,
            "grid_auto_rows": null,
            "grid_gap": null,
            "max_width": null,
            "order": null,
            "_view_module_version": "1.2.0",
            "grid_template_areas": null,
            "object_position": null,
            "object_fit": null,
            "grid_auto_columns": null,
            "margin": null,
            "display": null,
            "left": null
          }
        },
        "ac4eb89336ea429fb3eb4f784ce8920c": {
          "model_module": "@jupyter-widgets/controls",
          "model_name": "DropdownModel",
          "state": {
            "_options_labels": [
              "City of London",
              "Barking and Dagenham",
              "Barnet",
              "Bexley",
              "Brent",
              "Bromley",
              "Camden",
              "Croydon",
              "Ealing",
              "Enfield",
              "Greenwich",
              "Hackney",
              "Hammersmith and Fulham",
              "Haringey",
              "Harrow",
              "Havering",
              "Hillingdon",
              "Hounslow",
              "Islington",
              "Kensington and Chelsea",
              "Kingston upon Thames",
              "Lambeth",
              "Lewisham",
              "Merton",
              "Newham",
              "Redbridge",
              "Richmond upon Thames",
              "Southwark",
              "Sutton",
              "Tower Hamlets",
              "Waltham Forest",
              "Wandsworth",
              "Westminster",
              "North East",
              "North West",
              "Yorkshire And The Humber",
              "East Midlands",
              "West Midlands",
              "East of England",
              "London",
              "South East",
              "South West",
              "England",
              "Wales",
              "England And Wales"
            ],
            "_view_name": "DropdownView",
            "style": "IPY_MODEL_ee4261e66748401a92161f43122b5a4f",
            "_dom_classes": [],
            "description": "Pick Area:",
            "_model_name": "DropdownModel",
            "index": 13,
            "_view_module": "@jupyter-widgets/controls",
            "_model_module_version": "1.5.0",
            "_view_count": null,
            "disabled": false,
            "_view_module_version": "1.5.0",
            "description_tooltip": null,
            "_model_module": "@jupyter-widgets/controls",
            "layout": "IPY_MODEL_9b179363876c468382c4c07cc47ae5d7"
          }
        },
        "39542e1667294515b11038d214b826e5": {
          "model_module": "@jupyter-widgets/controls",
          "model_name": "DropdownModel",
          "state": {
            "_options_labels": [
              "Value"
            ],
            "_view_name": "DropdownView",
            "style": "IPY_MODEL_8cf8970a6c054f19bccff50c8f34fca0",
            "_dom_classes": [],
            "description": "Plot Value:",
            "_model_name": "DropdownModel",
            "index": 0,
            "_view_module": "@jupyter-widgets/controls",
            "_model_module_version": "1.5.0",
            "_view_count": null,
            "disabled": false,
            "_view_module_version": "1.5.0",
            "description_tooltip": null,
            "_model_module": "@jupyter-widgets/controls",
            "layout": "IPY_MODEL_8ebf0e3d8d914cb7a0890f3e4a7079ee"
          }
        },
        "abcdb1028288484eb58865d7701f0a25": {
          "model_module": "@jupyter-widgets/output",
          "model_name": "OutputModel",
          "state": {
            "_view_name": "OutputView",
            "msg_id": "",
            "_dom_classes": [],
            "_model_name": "OutputModel",
            "outputs": [
              {
                "output_type": "display_data",
                "metadata": {
                  "tags": [],
                  "needs_background": "light"
                },
                "image/png": "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\n",
                "text/plain": "<Figure size 432x288 with 1 Axes>"
              }
            ],
            "_view_module": "@jupyter-widgets/output",
            "_model_module_version": "1.0.0",
            "_view_count": null,
            "_view_module_version": "1.0.0",
            "layout": "IPY_MODEL_8645e64ccd2145329804c746082a963e",
            "_model_module": "@jupyter-widgets/output"
          }
        },
        "ee4261e66748401a92161f43122b5a4f": {
          "model_module": "@jupyter-widgets/controls",
          "model_name": "DescriptionStyleModel",
          "state": {
            "_view_name": "StyleView",
            "_model_name": "DescriptionStyleModel",
            "description_width": "initial",
            "_view_module": "@jupyter-widgets/base",
            "_model_module_version": "1.5.0",
            "_view_count": null,
            "_view_module_version": "1.2.0",
            "_model_module": "@jupyter-widgets/controls"
          }
        },
        "9b179363876c468382c4c07cc47ae5d7": {
          "model_module": "@jupyter-widgets/base",
          "model_name": "LayoutModel",
          "state": {
            "_view_name": "LayoutView",
            "grid_template_rows": null,
            "right": null,
            "justify_content": null,
            "_view_module": "@jupyter-widgets/base",
            "overflow": null,
            "_model_module_version": "1.2.0",
            "_view_count": null,
            "flex_flow": null,
            "width": "max-content",
            "min_width": null,
            "border": null,
            "align_items": null,
            "bottom": null,
            "_model_module": "@jupyter-widgets/base",
            "top": null,
            "grid_column": null,
            "overflow_y": null,
            "overflow_x": null,
            "grid_auto_flow": null,
            "grid_area": null,
            "grid_template_columns": null,
            "flex": null,
            "_model_name": "LayoutModel",
            "justify_items": null,
            "grid_row": null,
            "max_height": null,
            "align_content": null,
            "visibility": null,
            "align_self": null,
            "height": null,
            "min_height": null,
            "padding": null,
            "grid_auto_rows": null,
            "grid_gap": null,
            "max_width": null,
            "order": null,
            "_view_module_version": "1.2.0",
            "grid_template_areas": null,
            "object_position": null,
            "object_fit": null,
            "grid_auto_columns": null,
            "margin": null,
            "display": null,
            "left": null
          }
        },
        "8cf8970a6c054f19bccff50c8f34fca0": {
          "model_module": "@jupyter-widgets/controls",
          "model_name": "DescriptionStyleModel",
          "state": {
            "_view_name": "StyleView",
            "_model_name": "DescriptionStyleModel",
            "description_width": "initial",
            "_view_module": "@jupyter-widgets/base",
            "_model_module_version": "1.5.0",
            "_view_count": null,
            "_view_module_version": "1.2.0",
            "_model_module": "@jupyter-widgets/controls"
          }
        },
        "8ebf0e3d8d914cb7a0890f3e4a7079ee": {
          "model_module": "@jupyter-widgets/base",
          "model_name": "LayoutModel",
          "state": {
            "_view_name": "LayoutView",
            "grid_template_rows": null,
            "right": null,
            "justify_content": null,
            "_view_module": "@jupyter-widgets/base",
            "overflow": null,
            "_model_module_version": "1.2.0",
            "_view_count": null,
            "flex_flow": null,
            "width": "max-content",
            "min_width": null,
            "border": null,
            "align_items": null,
            "bottom": null,
            "_model_module": "@jupyter-widgets/base",
            "top": null,
            "grid_column": null,
            "overflow_y": null,
            "overflow_x": null,
            "grid_auto_flow": null,
            "grid_area": null,
            "grid_template_columns": null,
            "flex": null,
            "_model_name": "LayoutModel",
            "justify_items": null,
            "grid_row": null,
            "max_height": null,
            "align_content": null,
            "visibility": null,
            "align_self": null,
            "height": null,
            "min_height": null,
            "padding": null,
            "grid_auto_rows": null,
            "grid_gap": null,
            "max_width": null,
            "order": null,
            "_view_module_version": "1.2.0",
            "grid_template_areas": null,
            "object_position": null,
            "object_fit": null,
            "grid_auto_columns": null,
            "margin": null,
            "display": null,
            "left": null
          }
        },
        "8645e64ccd2145329804c746082a963e": {
          "model_module": "@jupyter-widgets/base",
          "model_name": "LayoutModel",
          "state": {
            "_view_name": "LayoutView",
            "grid_template_rows": null,
            "right": null,
            "justify_content": null,
            "_view_module": "@jupyter-widgets/base",
            "overflow": null,
            "_model_module_version": "1.2.0",
            "_view_count": null,
            "flex_flow": null,
            "width": null,
            "min_width": null,
            "border": null,
            "align_items": null,
            "bottom": null,
            "_model_module": "@jupyter-widgets/base",
            "top": null,
            "grid_column": null,
            "overflow_y": null,
            "overflow_x": null,
            "grid_auto_flow": null,
            "grid_area": null,
            "grid_template_columns": null,
            "flex": null,
            "_model_name": "LayoutModel",
            "justify_items": null,
            "grid_row": null,
            "max_height": null,
            "align_content": null,
            "visibility": null,
            "align_self": null,
            "height": null,
            "min_height": null,
            "padding": null,
            "grid_auto_rows": null,
            "grid_gap": null,
            "max_width": null,
            "order": null,
            "_view_module_version": "1.2.0",
            "grid_template_areas": null,
            "object_position": null,
            "object_fit": null,
            "grid_auto_columns": null,
            "margin": null,
            "display": null,
            "left": null
          }
        }
      }
    }
  },
  "cells": [
    {
      "cell_type": "code",
      "metadata": {
        "id": "z8OaOlx96E2W"
      },
      "source": [
        "import requests as reqs\n",
        "import pandas as pd\n",
        "import io\n",
        "import matplotlib.pyplot as plt\n",
        "from ipywidgets import Dropdown, interact\n",
        "\n",
        "# Govt website for data pull.\n",
        "source = 'https://data.london.gov.uk/download/average-house-prices/b1b0079e-698c-4c0b-b8c7-aa6189590ca4/land-registry-house-prices-borough.csv'\n",
        "source_get = reqs.get(source).content\n",
        "# Capture data for handling - io used to not require local instance.\n",
        "data_set = pd.read_csv(io.StringIO(source_get.decode('utf-8')), thousands=',')\n",
        "# Adjust year value to integer, convert house values to integers.\n",
        "data_set['Year'] = data_set['Year'].str[-4:]\n",
        "data_set['Value'] = data_set['Value'].astype(int)"
      ],
      "execution_count": 1,
      "outputs": []
    },
    {
      "cell_type": "code",
      "metadata": {
        "id": "SKDex3fQ6H7F"
      },
      "source": [
        "# UI bits\n",
        "borough_box=Dropdown(\n",
        "        options=[x for x in data_set['Area'].unique()],\n",
        "        value='London',\n",
        "        description='Pick Area:',\n",
        "        layout={'width': 'max-content'},\n",
        "        style = {'description_width': 'initial'},\n",
        "        disabled=False)\n",
        "data_box=Dropdown(\n",
        "        options=['Value'],\n",
        "        value='Value',\n",
        "        description='Plot Value:',\n",
        "        layout={'width': 'max-content'},\n",
        "        style = {'description_width': 'initial'},\n",
        "        disabled=False)"
      ],
      "execution_count": 2,
      "outputs": []
    },
    {
      "cell_type": "code",
      "metadata": {
        "id": "VrKfYANv6Z-m",
        "outputId": "3b920e0e-9ee9-45ee-9dfa-45728136bb0a",
        "colab": {
          "base_uri": "https://localhost:8080/",
          "height": 343,
          "referenced_widgets": [
            "c4cdc26c8b544ed3af2fe065ea1a0ec8",
            "114455ead01a4e39a7dcb9c74f504b75",
            "ac4eb89336ea429fb3eb4f784ce8920c",
            "39542e1667294515b11038d214b826e5",
            "abcdb1028288484eb58865d7701f0a25",
            "ee4261e66748401a92161f43122b5a4f",
            "9b179363876c468382c4c07cc47ae5d7",
            "8cf8970a6c054f19bccff50c8f34fca0",
            "8ebf0e3d8d914cb7a0890f3e4a7079ee",
            "8645e64ccd2145329804c746082a963e"
          ]
        }
      },
      "source": [
        "@interact(borough = borough_box, pull_val = data_box)\n",
        "def init_filter(borough, pull_val):\n",
        "    data_adj = data_set.loc[data_set['Measure'] == 'Median']\n",
        "    data_adj = data_adj.loc[data_adj['Area'] == borough]\n",
        "    data_final = data_adj.groupby(['Year'])['Value'].mean()\n",
        "    data_final.plot.line(x='Year',y=pull_val)\n",
        "    return "
      ],
      "execution_count": 4,
      "outputs": [
        {
          "output_type": "display_data",
          "data": {
            "application/vnd.jupyter.widget-view+json": {
              "model_id": "c4cdc26c8b544ed3af2fe065ea1a0ec8",
              "version_minor": 0,
              "version_major": 2
            },
            "text/plain": [
              "interactive(children=(Dropdown(description='Pick Area:', index=7, layout=Layout(width='max-content'), options=…"
            ]
          },
          "metadata": {
            "tags": []
          }
        }
      ]
    }
  ]
}