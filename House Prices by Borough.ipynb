{
 "cells": [
  {
   "cell_type": "code",
   "execution_count": 293,
   "metadata": {},
   "outputs": [],
   "source": [
    "import requests as reqs\n",
    "import pandas as pd\n",
    "import io\n",
    "import matplotlib.pyplot as plt\n",
    "from ipywidgets import Dropdown, interact\n",
    "\n",
    "# Govt website for data pull.\n",
    "source = 'https://data.london.gov.uk/download/average-house-prices/b1b0079e-698c-4c0b-b8c7-aa6189590ca4/land-registry-house-prices-borough.csv'\n",
    "source_get = reqs.get(source).content\n",
    "# Capture data for handling - io used to not require local instance.\n",
    "data_set = pd.read_csv(io.StringIO(source_get.decode('utf-8')), thousands=',')"
   ]
  },
  {
   "cell_type": "code",
   "execution_count": 294,
   "metadata": {},
   "outputs": [],
   "source": [
    "# Adjust year value to integer.\n",
    "data_set['Year'] = data_set['Year'].str[-4:]\n",
    "data_set['Value'] = data_set['Value'].astype(int)"
   ]
  },
  {
   "cell_type": "code",
   "execution_count": 295,
   "metadata": {},
   "outputs": [],
   "source": [
    "# UI bits\n",
    "borough_box=Dropdown(\n",
    "        options=[x for x in data_set['Area'].unique()],\n",
    "        value='London',\n",
    "        description='Pick Area:',\n",
    "        layout={'width': 'max-content'},\n",
    "        style = {'description_width': 'initial'},\n",
    "        disabled=False)\n",
    "data_box=Dropdown(\n",
    "        options=['Value'],\n",
    "        value='Value',\n",
    "        description='Plot Value:',\n",
    "        layout={'width': 'max-content'},\n",
    "        style = {'description_width': 'initial'},\n",
    "        disabled=False)"
   ]
  },
  {
   "cell_type": "code",
   "execution_count": 296,
   "metadata": {},
   "outputs": [
    {
     "data": {
      "application/vnd.jupyter.widget-view+json": {
       "model_id": "41111261b3904f85ba2d2c2d11869835",
       "version_major": 2,
       "version_minor": 0
      },
      "text/plain": [
       "interactive(children=(Dropdown(description='Pick Area:', index=39, layout=Layout(width='max-content'), options…"
      ]
     },
     "metadata": {},
     "output_type": "display_data"
    }
   ],
   "source": [
    "@interact(borough = borough_box, pull_val = data_box)\n",
    "def init_filter(borough, pull_val):\n",
    "    data_adj = data_set.loc[data_set['Measure'] == 'Median']\n",
    "    data_adj = data_adj.loc[data_adj['Area'] == borough]\n",
    "    data_final = data_adj.groupby(['Year'])['Value'].mean()\n",
    "    return data_final.plot.line(x='Year',y=pull_val)"
   ]
  },
  {
   "cell_type": "code",
   "execution_count": null,
   "metadata": {},
   "outputs": [],
   "source": []
  }
 ],
 "metadata": {
  "kernelspec": {
   "display_name": "Python 3",
   "language": "python",
   "name": "python3"
  },
  "language_info": {
   "codemirror_mode": {
    "name": "ipython",
    "version": 3
   },
   "file_extension": ".py",
   "mimetype": "text/x-python",
   "name": "python",
   "nbconvert_exporter": "python",
   "pygments_lexer": "ipython3",
   "version": "3.8.5"
  }
 },
 "nbformat": 4,
 "nbformat_minor": 4
}
